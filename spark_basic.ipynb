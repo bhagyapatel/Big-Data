{
  "nbformat": 4,
  "nbformat_minor": 0,
  "metadata": {
    "colab": {
      "provenance": [],
      "authorship_tag": "ABX9TyPwXZV0JhbSBXcPMKZjbi0F",
      "include_colab_link": true
    },
    "kernelspec": {
      "name": "python3",
      "display_name": "Python 3"
    },
    "language_info": {
      "name": "python"
    }
  },
  "cells": [
    {
      "cell_type": "markdown",
      "metadata": {
        "id": "view-in-github",
        "colab_type": "text"
      },
      "source": [
        "<a href=\"https://colab.research.google.com/github/bhagyapatel/Big-Data/blob/main/spark_basic.ipynb\" target=\"_parent\"><img src=\"https://colab.research.google.com/assets/colab-badge.svg\" alt=\"Open In Colab\"/></a>"
      ]
    },
    {
      "cell_type": "markdown",
      "source": [
        "#Spark Installation "
      ],
      "metadata": {
        "id": "9smWGiuTNUWD"
      }
    },
    {
      "cell_type": "code",
      "execution_count": null,
      "metadata": {
        "id": "RPCf3J_DhWeu"
      },
      "outputs": [],
      "source": [
        "!apt-get install openjdk-8-jdk-headless -qq > /dev/null\n",
        "!wget -q https://archive.apache.org/dist/spark/spark-3.0.0/spark-3.0.0-bin-hadoop3.2.tgz\n",
        "!tar xf spark-3.0.0-bin-hadoop3.2.tgz\n",
        "!pip install -q findspark"
      ]
    },
    {
      "cell_type": "code",
      "source": [
        "import os\n",
        "os.environ[\"JAVA_HOME\"] = \"/usr/lib/jvm/java-8-openjdk-amd64\"\n",
        "os.environ[\"SPARK_HOME\"] = \"/content/spark-3.0.0-bin-hadoop3.2\"\n"
      ],
      "metadata": {
        "id": "QD7krFIQhaQm"
      },
      "execution_count": null,
      "outputs": []
    },
    {
      "cell_type": "code",
      "source": [
        "!pip install -q findspark\n",
        "import findspark\n",
        "findspark.init()"
      ],
      "metadata": {
        "id": "MRuBz1JjhbtV"
      },
      "execution_count": null,
      "outputs": []
    },
    {
      "cell_type": "markdown",
      "source": [
        "##RDD"
      ],
      "metadata": {
        "id": "Dyy09hVl9PCZ"
      }
    },
    {
      "cell_type": "code",
      "source": [
        "from pyspark.sql import SparkSession\n",
        "spark = SparkSession.builder.appName(\"rdd trial\").getOrCreate()"
      ],
      "metadata": {
        "id": "Lm8zZtLz9Vxt"
      },
      "execution_count": null,
      "outputs": []
    },
    {
      "cell_type": "code",
      "source": [
        "RDD1 = spark.sparkContext.parallelize([[1,\"bhawana\",\"patel\",\"pune\"],[2,\"heena\",\"khan\",\"mumbai\"]],2)"
      ],
      "metadata": {
        "id": "RU0_qMDY9OCv"
      },
      "execution_count": null,
      "outputs": []
    },
    {
      "cell_type": "code",
      "source": [
        "RDD1.collect()"
      ],
      "metadata": {
        "colab": {
          "base_uri": "https://localhost:8080/"
        },
        "id": "SQ1oyeUR-6U4",
        "outputId": "9c022193-aad7-4c25-bc21-3e45aa8544ed"
      },
      "execution_count": null,
      "outputs": [
        {
          "output_type": "execute_result",
          "data": {
            "text/plain": [
              "[[1, 'bhawana', 'patel', 'pune'], [2, 'heena', 'khan', 'mumbai']]"
            ]
          },
          "metadata": {},
          "execution_count": 9
        }
      ]
    },
    {
      "cell_type": "code",
      "source": [
        "RDD1.toDF(schema=[\"id\",\"name\",\"lname\",\"city\"]).show()"
      ],
      "metadata": {
        "colab": {
          "base_uri": "https://localhost:8080/"
        },
        "id": "QLH3SD8T_daP",
        "outputId": "9f6866b1-bb98-429a-c774-69f22530c83f"
      },
      "execution_count": null,
      "outputs": [
        {
          "output_type": "stream",
          "name": "stdout",
          "text": [
            "+---+-------+-----+------+\n",
            "| id|   name|lname|  city|\n",
            "+---+-------+-----+------+\n",
            "|  1|bhawana|patel|  pune|\n",
            "|  2|  heena| khan|mumbai|\n",
            "+---+-------+-----+------+\n",
            "\n"
          ]
        }
      ]
    },
    {
      "cell_type": "code",
      "source": [],
      "metadata": {
        "id": "oT780ovw_zd-"
      },
      "execution_count": null,
      "outputs": []
    },
    {
      "cell_type": "markdown",
      "source": [
        "##DataFrame Creation"
      ],
      "metadata": {
        "id": "y5yQRx4tNhqA"
      }
    },
    {
      "cell_type": "code",
      "source": [
        "product = [\"jacket\",\"hat\",\"shoe\"]\n",
        "price = [1500, 300, 1000]\n",
        "quantitity = [2, 3, 1]"
      ],
      "metadata": {
        "id": "aYLaJF9Whl3t"
      },
      "execution_count": null,
      "outputs": []
    },
    {
      "cell_type": "code",
      "source": [
        "from pyspark.sql import SparkSession\n",
        "spark = SparkSession.builder.appName(\"First\").getOrCreate()"
      ],
      "metadata": {
        "id": "n5o7O62Zt-m6"
      },
      "execution_count": null,
      "outputs": []
    },
    {
      "cell_type": "code",
      "source": [],
      "metadata": {
        "id": "ZkX1Jk4fuKhw"
      },
      "execution_count": null,
      "outputs": []
    },
    {
      "cell_type": "code",
      "source": [
        "columns = [\"product\",\"price\",\"quantitity\"]\n",
        "df = spark.createDataFrame(zip(product,price,quantitity),columns)"
      ],
      "metadata": {
        "id": "UtK4qZV7tvMT"
      },
      "execution_count": null,
      "outputs": []
    },
    {
      "cell_type": "code",
      "source": [
        "from pyspark.sql.functions import *\n",
        "df1 = df.withColumn(\"total_price\", expr(\"quantitity * price\"))\n",
        "df1.show()"
      ],
      "metadata": {
        "colab": {
          "base_uri": "https://localhost:8080/"
        },
        "id": "8qrVYtUet8Tq",
        "outputId": "d8a5cdcd-09d7-4de6-eb3c-5340d9ede897"
      },
      "execution_count": null,
      "outputs": [
        {
          "output_type": "stream",
          "name": "stdout",
          "text": [
            "+-------+-----+----------+-----------+\n",
            "|product|price|quantitity|total_price|\n",
            "+-------+-----+----------+-----------+\n",
            "| jacket| 1500|         2|       3000|\n",
            "|    hat|  300|         3|        900|\n",
            "|   shoe| 1000|         1|       1000|\n",
            "+-------+-----+----------+-----------+\n",
            "\n"
          ]
        }
      ]
    },
    {
      "cell_type": "code",
      "source": [
        "#by calculating 30% of Jacket , 10% of hat and nothing for shoe on the Total_price\n",
        "\n",
        "df2 = df1.withColumn(\"Discount_amount\", when(col(\"product\") ==\"jacket\", df1.total_price*30/100) \\\n",
        "              .when(col(\"product\") == \"hat\", df1.total_price*10/100) \\\n",
        "              .otherwise(df1.total_price*0/100))\n",
        "df2.show()"
      ],
      "metadata": {
        "colab": {
          "base_uri": "https://localhost:8080/"
        },
        "id": "Hm0kI4ylucKQ",
        "outputId": "173cba3f-6619-431b-f250-ca4b1375a178"
      },
      "execution_count": null,
      "outputs": [
        {
          "output_type": "stream",
          "name": "stdout",
          "text": [
            "+-------+-----+----------+-----------+---------------+\n",
            "|product|price|quantitity|total_price|Discount_amount|\n",
            "+-------+-----+----------+-----------+---------------+\n",
            "| jacket| 1500|         2|       3000|          900.0|\n",
            "|    hat|  300|         3|        900|           90.0|\n",
            "|   shoe| 1000|         1|       1000|            0.0|\n",
            "+-------+-----+----------+-----------+---------------+\n",
            "\n"
          ]
        }
      ]
    },
    {
      "cell_type": "code",
      "source": [
        "df3 = df2.withColumn(\"net_price\", df2.total_price - df2.Discount_amount)\n",
        "df3.show()"
      ],
      "metadata": {
        "colab": {
          "base_uri": "https://localhost:8080/"
        },
        "id": "MsDAmtO-Dhpn",
        "outputId": "987b1efb-b620-4531-fc1e-91345fdaed08"
      },
      "execution_count": null,
      "outputs": [
        {
          "output_type": "stream",
          "name": "stdout",
          "text": [
            "+-------+-----+----------+-----------+---------------+---------+\n",
            "|product|price|quantitity|total_price|Discount_amount|net_price|\n",
            "+-------+-----+----------+-----------+---------------+---------+\n",
            "| jacket| 1500|         2|       3000|          900.0|   2100.0|\n",
            "|    hat|  300|         3|        900|           90.0|    810.0|\n",
            "|   shoe| 1000|         1|       1000|            0.0|   1000.0|\n",
            "+-------+-----+----------+-----------+---------------+---------+\n",
            "\n"
          ]
        }
      ]
    },
    {
      "cell_type": "code",
      "source": [
        "df3.write.option(\"header\",True) \\\n",
        ".partitionBy(\"product\") \\\n",
        ".parquet(\"/content/sample_data/df3_parquet\",)"
      ],
      "metadata": {
        "id": "8C2XIP8VEPIp"
      },
      "execution_count": null,
      "outputs": []
    },
    {
      "cell_type": "code",
      "source": [],
      "metadata": {
        "id": "6GwHmXkGEn6T"
      },
      "execution_count": null,
      "outputs": []
    },
    {
      "cell_type": "code",
      "source": [
        "df1.withColumn(\"Discount_amount\", when(col(\"product\") ==\"jacket\", col(\"total_price\")*30/100) \\\n",
        "              .when(col(\"product\") == \"hat\", col(\"total_price\")*10/100) \\\n",
        "              .otherwise(df1.total_price*0/100)).show()"
      ],
      "metadata": {
        "colab": {
          "base_uri": "https://localhost:8080/"
        },
        "id": "aya6HfTQvN9T",
        "outputId": "035cd73e-b274-49c3-f9e5-343dda5a6cd8"
      },
      "execution_count": null,
      "outputs": [
        {
          "output_type": "stream",
          "name": "stdout",
          "text": [
            "+-------+-----+----------+-----------+---------------+\n",
            "|product|price|quantitity|total_price|Discount_amount|\n",
            "+-------+-----+----------+-----------+---------------+\n",
            "| jacket| 1500|         2|       3000|          900.0|\n",
            "|    hat|  300|         3|        900|           90.0|\n",
            "|   shoe| 1000|         1|       1000|            0.0|\n",
            "+-------+-----+----------+-----------+---------------+\n",
            "\n"
          ]
        }
      ]
    },
    {
      "cell_type": "code",
      "source": [
        "df_p = spark.read.parquet(\"/content/sample_data/df3_parquet\")"
      ],
      "metadata": {
        "id": "x-XUFl6TsOJb"
      },
      "execution_count": null,
      "outputs": []
    },
    {
      "cell_type": "code",
      "source": [
        "df_p.show()"
      ],
      "metadata": {
        "colab": {
          "base_uri": "https://localhost:8080/"
        },
        "id": "NVZArnScsPRA",
        "outputId": "d0528ae6-1a28-4363-e94d-3e947b2c5846"
      },
      "execution_count": null,
      "outputs": [
        {
          "output_type": "stream",
          "name": "stdout",
          "text": [
            "+-----+----------+-----------+---------------+---------+-------+\n",
            "|price|quantitity|total_price|Discount_amount|net_price|product|\n",
            "+-----+----------+-----------+---------------+---------+-------+\n",
            "|  300|         3|        900|           90.0|    810.0|    hat|\n",
            "| 1500|         2|       3000|          900.0|   2100.0| jacket|\n",
            "| 1000|         1|       1000|            0.0|   1000.0|   shoe|\n",
            "+-----+----------+-----------+---------------+---------+-------+\n",
            "\n"
          ]
        }
      ]
    },
    {
      "cell_type": "code",
      "source": [
        "df11 = df_p.select(\"*\").filter(df_p.net_price == 2100)"
      ],
      "metadata": {
        "id": "dtNkgYqFgQKs"
      },
      "execution_count": null,
      "outputs": []
    },
    {
      "cell_type": "code",
      "source": [
        "df11.write.partitionBy(\"product\").option(\"mode\",\"append\").parquet(\"/content/sample_data/df3_parquet1\")"
      ],
      "metadata": {
        "id": "EgKpxM9QsQBu"
      },
      "execution_count": null,
      "outputs": []
    },
    {
      "cell_type": "code",
      "source": [
        "df = spark.read.option(\"header\",True).option(\"delimiter\",\";\").csv(\"/content/test.csv\")"
      ],
      "metadata": {
        "id": "l3GHP4BTzu0o"
      },
      "execution_count": null,
      "outputs": []
    },
    {
      "cell_type": "code",
      "source": [
        "df.show()"
      ],
      "metadata": {
        "colab": {
          "base_uri": "https://localhost:8080/"
        },
        "id": "1_lHI6bQzul4",
        "outputId": "203a37ab-1cb7-48b2-d398-ae452902b383"
      },
      "execution_count": null,
      "outputs": [
        {
          "output_type": "stream",
          "name": "stdout",
          "text": [
            "+---+-------------+-------+---------+-------+-------+-------+----+--------+---+-----+--------+--------+-----+--------+--------+---+\n",
            "|age|          job|marital|education|default|balance|housing|loan| contact|day|month|duration|campaign|pdays|previous|poutcome|  y|\n",
            "+---+-------------+-------+---------+-------+-------+-------+----+--------+---+-----+--------+--------+-----+--------+--------+---+\n",
            "| 30|   unemployed|married|  primary|     no|   1787|     no|  no|cellular| 19|  oct|      79|       1|   -1|       0| unknown| no|\n",
            "| 33|     services|married|secondary|     no|   4789|    yes| yes|cellular| 11|  may|     220|       1|  339|       4| failure| no|\n",
            "| 35|   management| single| tertiary|     no|   1350|    yes|  no|cellular| 16|  apr|     185|       1|  330|       1| failure| no|\n",
            "| 30|   management|married| tertiary|     no|   1476|    yes| yes| unknown|  3|  jun|     199|       4|   -1|       0| unknown| no|\n",
            "| 59|  blue-collar|married|secondary|     no|      0|    yes|  no| unknown|  5|  may|     226|       1|   -1|       0| unknown| no|\n",
            "| 35|   management| single| tertiary|     no|    747|     no|  no|cellular| 23|  feb|     141|       2|  176|       3| failure| no|\n",
            "| 36|self-employed|married| tertiary|     no|    307|    yes|  no|cellular| 14|  may|     341|       1|  330|       2|   other| no|\n",
            "| 39|   technician|married|secondary|     no|    147|    yes|  no|cellular|  6|  may|     151|       2|   -1|       0| unknown| no|\n",
            "| 41| entrepreneur|married| tertiary|     no|    221|    yes|  no| unknown| 14|  may|      57|       2|   -1|       0| unknown| no|\n",
            "| 43|     services|married|  primary|     no|    -88|    yes| yes|cellular| 17|  apr|     313|       1|  147|       2| failure| no|\n",
            "| 39|     services|married|secondary|     no|   9374|    yes|  no| unknown| 20|  may|     273|       1|   -1|       0| unknown| no|\n",
            "| 43|       admin.|married|secondary|     no|    264|    yes|  no|cellular| 17|  apr|     113|       2|   -1|       0| unknown| no|\n",
            "| 36|   technician|married| tertiary|     no|   1109|     no|  no|cellular| 13|  aug|     328|       2|   -1|       0| unknown| no|\n",
            "| 20|      student| single|secondary|     no|    502|     no|  no|cellular| 30|  apr|     261|       1|   -1|       0| unknown|yes|\n",
            "| 31|  blue-collar|married|secondary|     no|    360|    yes| yes|cellular| 29|  jan|      89|       1|  241|       1| failure| no|\n",
            "| 40|   management|married| tertiary|     no|    194|     no| yes|cellular| 29|  aug|     189|       2|   -1|       0| unknown| no|\n",
            "| 56|   technician|married|secondary|     no|   4073|     no|  no|cellular| 27|  aug|     239|       5|   -1|       0| unknown| no|\n",
            "| 37|       admin.| single| tertiary|     no|   2317|    yes|  no|cellular| 20|  apr|     114|       1|  152|       2| failure| no|\n",
            "| 25|  blue-collar| single|  primary|     no|   -221|    yes|  no| unknown| 23|  may|     250|       1|   -1|       0| unknown| no|\n",
            "| 31|     services|married|secondary|     no|    132|     no|  no|cellular|  7|  jul|     148|       1|  152|       1|   other| no|\n",
            "+---+-------------+-------+---------+-------+-------+-------+----+--------+---+-----+--------+--------+-----+--------+--------+---+\n",
            "only showing top 20 rows\n",
            "\n"
          ]
        }
      ]
    },
    {
      "cell_type": "code",
      "source": [
        "df1 = df.dropDuplicates()\n",
        "df1.count()"
      ],
      "metadata": {
        "colab": {
          "base_uri": "https://localhost:8080/"
        },
        "id": "lav0x0IuGPwR",
        "outputId": "0a7bc0fa-0f59-42e3-fa55-f528948dee0e"
      },
      "execution_count": null,
      "outputs": [
        {
          "output_type": "execute_result",
          "data": {
            "text/plain": [
              "4521"
            ]
          },
          "metadata": {},
          "execution_count": 17
        }
      ]
    },
    {
      "cell_type": "code",
      "source": [
        "df.count()"
      ],
      "metadata": {
        "colab": {
          "base_uri": "https://localhost:8080/"
        },
        "id": "07IKVUK0GkQo",
        "outputId": "13d339b1-07e7-45ea-ec87-c6ad48025291"
      },
      "execution_count": null,
      "outputs": [
        {
          "output_type": "execute_result",
          "data": {
            "text/plain": [
              "4521"
            ]
          },
          "metadata": {},
          "execution_count": 18
        }
      ]
    },
    {
      "cell_type": "code",
      "source": [
        "df.filter(df.job.isNull()).count()"
      ],
      "metadata": {
        "colab": {
          "base_uri": "https://localhost:8080/"
        },
        "id": "eEhVU0Ap3bRq",
        "outputId": "31361b22-3b69-4315-8312-b83aa68db75f"
      },
      "execution_count": null,
      "outputs": [
        {
          "output_type": "execute_result",
          "data": {
            "text/plain": [
              "0"
            ]
          },
          "metadata": {},
          "execution_count": 8
        }
      ]
    },
    {
      "cell_type": "code",
      "source": [
        "from pyspark.sql.functions import *\n",
        "df.withColumn(\"balance\",expr(\"regexp_replace(balance, 0, 1)\")).show()"
      ],
      "metadata": {
        "colab": {
          "base_uri": "https://localhost:8080/"
        },
        "id": "QiGL2frD3bHP",
        "outputId": "59b3291c-5ee9-4b64-b8ef-4541f9bd26da"
      },
      "execution_count": null,
      "outputs": [
        {
          "output_type": "stream",
          "name": "stdout",
          "text": [
            "+---+-------------+-------+---------+-------+-------+-------+----+--------+---+-----+--------+--------+-----+--------+--------+---+\n",
            "|age|          job|marital|education|default|balance|housing|loan| contact|day|month|duration|campaign|pdays|previous|poutcome|  y|\n",
            "+---+-------------+-------+---------+-------+-------+-------+----+--------+---+-----+--------+--------+-----+--------+--------+---+\n",
            "| 30|   unemployed|married|  primary|     no|   1787|     no|  no|cellular| 19|  oct|      79|       1|   -1|       0| unknown| no|\n",
            "| 33|     services|married|secondary|     no|   4789|    yes| yes|cellular| 11|  may|     220|       1|  339|       4| failure| no|\n",
            "| 35|   management| single| tertiary|     no|   1351|    yes|  no|cellular| 16|  apr|     185|       1|  330|       1| failure| no|\n",
            "| 30|   management|married| tertiary|     no|   1476|    yes| yes| unknown|  3|  jun|     199|       4|   -1|       0| unknown| no|\n",
            "| 59|  blue-collar|married|secondary|     no|      1|    yes|  no| unknown|  5|  may|     226|       1|   -1|       0| unknown| no|\n",
            "| 35|   management| single| tertiary|     no|    747|     no|  no|cellular| 23|  feb|     141|       2|  176|       3| failure| no|\n",
            "| 36|self-employed|married| tertiary|     no|    317|    yes|  no|cellular| 14|  may|     341|       1|  330|       2|   other| no|\n",
            "| 39|   technician|married|secondary|     no|    147|    yes|  no|cellular|  6|  may|     151|       2|   -1|       0| unknown| no|\n",
            "| 41| entrepreneur|married| tertiary|     no|    221|    yes|  no| unknown| 14|  may|      57|       2|   -1|       0| unknown| no|\n",
            "| 43|     services|married|  primary|     no|    -88|    yes| yes|cellular| 17|  apr|     313|       1|  147|       2| failure| no|\n",
            "| 39|     services|married|secondary|     no|   9374|    yes|  no| unknown| 20|  may|     273|       1|   -1|       0| unknown| no|\n",
            "| 43|       admin.|married|secondary|     no|    264|    yes|  no|cellular| 17|  apr|     113|       2|   -1|       0| unknown| no|\n",
            "| 36|   technician|married| tertiary|     no|   1119|     no|  no|cellular| 13|  aug|     328|       2|   -1|       0| unknown| no|\n",
            "| 20|      student| single|secondary|     no|    512|     no|  no|cellular| 30|  apr|     261|       1|   -1|       0| unknown|yes|\n",
            "| 31|  blue-collar|married|secondary|     no|    361|    yes| yes|cellular| 29|  jan|      89|       1|  241|       1| failure| no|\n",
            "| 40|   management|married| tertiary|     no|    194|     no| yes|cellular| 29|  aug|     189|       2|   -1|       0| unknown| no|\n",
            "| 56|   technician|married|secondary|     no|   4173|     no|  no|cellular| 27|  aug|     239|       5|   -1|       0| unknown| no|\n",
            "| 37|       admin.| single| tertiary|     no|   2317|    yes|  no|cellular| 20|  apr|     114|       1|  152|       2| failure| no|\n",
            "| 25|  blue-collar| single|  primary|     no|   -221|    yes|  no| unknown| 23|  may|     250|       1|   -1|       0| unknown| no|\n",
            "| 31|     services|married|secondary|     no|    132|     no|  no|cellular|  7|  jul|     148|       1|  152|       1|   other| no|\n",
            "+---+-------------+-------+---------+-------+-------+-------+----+--------+---+-----+--------+--------+-----+--------+--------+---+\n",
            "only showing top 20 rows\n",
            "\n"
          ]
        }
      ]
    },
    {
      "cell_type": "markdown",
      "source": [
        "##GroupBy"
      ],
      "metadata": {
        "id": "gk5gMK1QNLpI"
      }
    },
    {
      "cell_type": "code",
      "source": [
        "d = df.groupBy(\"contact\",\"loan\").count()\n",
        "d.show()"
      ],
      "metadata": {
        "colab": {
          "base_uri": "https://localhost:8080/"
        },
        "id": "_7X0TGkCK-4J",
        "outputId": "c15d220e-c88f-48bc-ab04-f14bdffcf46d"
      },
      "execution_count": null,
      "outputs": [
        {
          "output_type": "stream",
          "name": "stdout",
          "text": [
            "+---------+----+-----+\n",
            "|  contact|loan|count|\n",
            "+---------+----+-----+\n",
            "| cellular|  no| 2447|\n",
            "|  unknown|  no| 1126|\n",
            "|telephone| yes|   44|\n",
            "|  unknown| yes|  198|\n",
            "|telephone|  no|  257|\n",
            "| cellular| yes|  449|\n",
            "+---------+----+-----+\n",
            "\n"
          ]
        }
      ]
    },
    {
      "cell_type": "code",
      "source": [
        "df.select(df.marital).distinct().count()"
      ],
      "metadata": {
        "colab": {
          "base_uri": "https://localhost:8080/"
        },
        "id": "Wqhc9qafEOd9",
        "outputId": "04286787-f869-445b-a734-170c3b8edae4"
      },
      "execution_count": null,
      "outputs": [
        {
          "output_type": "execute_result",
          "data": {
            "text/plain": [
              "3"
            ]
          },
          "metadata": {},
          "execution_count": 13
        }
      ]
    },
    {
      "cell_type": "code",
      "source": [
        "df.select(\"marital\",\"loan\").distinct().count()"
      ],
      "metadata": {
        "colab": {
          "base_uri": "https://localhost:8080/"
        },
        "id": "iyo60bZWN9-m",
        "outputId": "f964afaa-ec29-4e15-df51-c2067ace4c21"
      },
      "execution_count": null,
      "outputs": [
        {
          "output_type": "execute_result",
          "data": {
            "text/plain": [
              "6"
            ]
          },
          "metadata": {},
          "execution_count": 14
        }
      ]
    },
    {
      "cell_type": "code",
      "source": [
        "df.sort(\"education\")"
      ],
      "metadata": {
        "id": "qlLiphAjOtB0"
      },
      "execution_count": null,
      "outputs": []
    },
    {
      "cell_type": "code",
      "source": [
        "df1 = df.groupBy(\"education\",\"housing\",\"loan\").count().orderBy(\"education\")\n",
        "df1.show()"
      ],
      "metadata": {
        "colab": {
          "base_uri": "https://localhost:8080/"
        },
        "id": "ZdTmwxgN3bAw",
        "outputId": "654c2460-92ae-4ac0-d11f-fa5e4ec54642"
      },
      "execution_count": null,
      "outputs": [
        {
          "output_type": "stream",
          "name": "stdout",
          "text": [
            "+---------+-------+----+-----+\n",
            "|education|housing|loan|count|\n",
            "+---------+-------+----+-----+\n",
            "|  primary|    yes| yes|   52|\n",
            "|  primary|     no| yes|   42|\n",
            "|  primary|     no|  no|  253|\n",
            "|  primary|    yes|  no|  331|\n",
            "|secondary|     no| yes|  165|\n",
            "|secondary|    yes|  no| 1179|\n",
            "|secondary|     no|  no|  711|\n",
            "|secondary|    yes| yes|  251|\n",
            "| tertiary|    yes|  no|  562|\n",
            "| tertiary|     no|  no|  614|\n",
            "| tertiary|    yes| yes|  101|\n",
            "| tertiary|     no| yes|   73|\n",
            "|  unknown|     no|  no|   99|\n",
            "|  unknown|     no| yes|    5|\n",
            "|  unknown|    yes| yes|    2|\n",
            "|  unknown|    yes|  no|   81|\n",
            "+---------+-------+----+-----+\n",
            "\n"
          ]
        }
      ]
    },
    {
      "cell_type": "code",
      "source": [
        "from pyspark.sql.types import *\n",
        "df.selectExpr(\"cast(balance as int) as balance1\").printSchema()\n"
      ],
      "metadata": {
        "colab": {
          "base_uri": "https://localhost:8080/"
        },
        "id": "W4azQG_rZGX0",
        "outputId": "7fef5ccf-45b3-454d-ff65-78f351934591"
      },
      "execution_count": null,
      "outputs": [
        {
          "output_type": "stream",
          "name": "stdout",
          "text": [
            "root\n",
            " |-- balance1: integer (nullable = true)\n",
            "\n"
          ]
        }
      ]
    },
    {
      "cell_type": "code",
      "source": [
        "df = df.withColumn(\"balance\", expr(\"cast(balance as int)\"))"
      ],
      "metadata": {
        "id": "bNKBfbBOynMK"
      },
      "execution_count": null,
      "outputs": []
    },
    {
      "cell_type": "code",
      "source": [
        "df.groupBy(\"marital\").max(\"balance\").show()"
      ],
      "metadata": {
        "colab": {
          "base_uri": "https://localhost:8080/"
        },
        "id": "FXbHvhAgdNlE",
        "outputId": "25925e72-232c-47e4-e9b7-3ca098095837"
      },
      "execution_count": null,
      "outputs": [
        {
          "output_type": "stream",
          "name": "stdout",
          "text": [
            "+--------+------------+\n",
            "| marital|max(balance)|\n",
            "+--------+------------+\n",
            "|divorced|       26306|\n",
            "| married|       71188|\n",
            "|  single|       27733|\n",
            "+--------+------------+\n",
            "\n"
          ]
        }
      ]
    },
    {
      "cell_type": "code",
      "source": [
        "df.printSchema()"
      ],
      "metadata": {
        "colab": {
          "base_uri": "https://localhost:8080/"
        },
        "id": "z-3KJDmrcCP6",
        "outputId": "a8b57aa8-e460-41e8-c3b8-0b4247058929"
      },
      "execution_count": null,
      "outputs": [
        {
          "output_type": "stream",
          "name": "stdout",
          "text": [
            "root\n",
            " |-- age: string (nullable = true)\n",
            " |-- job: string (nullable = true)\n",
            " |-- marital: string (nullable = true)\n",
            " |-- education: string (nullable = true)\n",
            " |-- default: string (nullable = true)\n",
            " |-- balance: string (nullable = true)\n",
            " |-- housing: string (nullable = true)\n",
            " |-- loan: string (nullable = true)\n",
            " |-- contact: string (nullable = true)\n",
            " |-- day: string (nullable = true)\n",
            " |-- month: string (nullable = true)\n",
            " |-- duration: string (nullable = true)\n",
            " |-- campaign: string (nullable = true)\n",
            " |-- pdays: string (nullable = true)\n",
            " |-- previous: string (nullable = true)\n",
            " |-- poutcome: string (nullable = true)\n",
            " |-- y: string (nullable = true)\n",
            "\n"
          ]
        }
      ]
    },
    {
      "cell_type": "code",
      "source": [],
      "metadata": {
        "id": "HhF2QbYs670G"
      },
      "execution_count": null,
      "outputs": []
    },
    {
      "cell_type": "markdown",
      "source": [
        "##Filter and where"
      ],
      "metadata": {
        "id": "ZB74LRkFWOGF"
      }
    },
    {
      "cell_type": "code",
      "source": [
        "df.select(\"*\").filter((df.loan == \"yes\") & (df.marital == \"married\")).count()"
      ],
      "metadata": {
        "colab": {
          "base_uri": "https://localhost:8080/"
        },
        "id": "6MQTnKrYKbRR",
        "outputId": "13eba694-e92f-4fd1-86a6-e2bb0281c1e2"
      },
      "execution_count": null,
      "outputs": [
        {
          "output_type": "execute_result",
          "data": {
            "text/plain": [
              "453"
            ]
          },
          "metadata": {},
          "execution_count": 43
        }
      ]
    },
    {
      "cell_type": "code",
      "source": [
        "df.select(\"*\").filter((df.loan == \"yes\") & (df.marital == \"married\")).show()"
      ],
      "metadata": {
        "id": "9RI_GLXcQ_OV"
      },
      "execution_count": null,
      "outputs": []
    },
    {
      "cell_type": "code",
      "source": [],
      "metadata": {
        "id": "2EF9FfbvQ-GR"
      },
      "execution_count": null,
      "outputs": []
    },
    {
      "cell_type": "code",
      "source": [],
      "metadata": {
        "id": "cZtA8eXlQ96m"
      },
      "execution_count": null,
      "outputs": []
    }
  ]
}