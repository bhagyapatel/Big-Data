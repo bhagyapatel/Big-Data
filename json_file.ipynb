{
  "nbformat": 4,
  "nbformat_minor": 0,
  "metadata": {
    "colab": {
      "provenance": [],
      "collapsed_sections": [],
      "authorship_tag": "ABX9TyNMEUbJ7JgRaMa/Xs9xULqT",
      "include_colab_link": true
    },
    "kernelspec": {
      "name": "python3",
      "display_name": "Python 3"
    },
    "language_info": {
      "name": "python"
    }
  },
  "cells": [
    {
      "cell_type": "markdown",
      "metadata": {
        "id": "view-in-github",
        "colab_type": "text"
      },
      "source": [
        "<a href=\"https://colab.research.google.com/github/bhagyapatel/Big-Data/blob/main/json_file.ipynb\" target=\"_parent\"><img src=\"https://colab.research.google.com/assets/colab-badge.svg\" alt=\"Open In Colab\"/></a>"
      ]
    },
    {
      "cell_type": "code",
      "source": [
        " !apt-get install openjdk-8-jdk-headless -qq > /dev/null\n",
        " !wget -q https://archive.apache.org/dist/spark/spark-3.0.0/spark-3.0.0-bin-hadoop3.2.tgz\n",
        " !tar xf spark-3.0.0-bin-hadoop3.2.tgz\n",
        " !pip install -q findspark"
      ],
      "metadata": {
        "id": "ew3z9OSfGb4q"
      },
      "execution_count": 1,
      "outputs": []
    },
    {
      "cell_type": "code",
      "source": [
        "import os\n",
        "os.environ[\"JAVA_HOME\"] = \"/usr/lib/jvm/java-8-openjdk-amd64\"\n",
        "os.environ[\"SPARK_HOME\"] = \"/content/spark-3.0.0-bin-hadoop3.2\"\n",
        "os.environ[\"path\"] =\"${SPARK_HOME}/bin\""
      ],
      "metadata": {
        "id": "AXM6pXYmGe6m"
      },
      "execution_count": 2,
      "outputs": []
    },
    {
      "cell_type": "code",
      "source": [
        "!pip install -q findspark\n",
        "import findspark\n",
        "findspark.init()"
      ],
      "metadata": {
        "id": "mqhED5mrGhvR"
      },
      "execution_count": 3,
      "outputs": []
    },
    {
      "cell_type": "code",
      "source": [
        "from pyspark.sql.functions import *\n",
        "from pyspark.sql import SparkSession\n",
        "spark = SparkSession.builder.appName(\"json_File\").getOrCreate()\n",
        "from pyspark import SparkFiles,SparkContext"
      ],
      "metadata": {
        "id": "kLFkJKybGGV8"
      },
      "execution_count": 4,
      "outputs": []
    },
    {
      "cell_type": "code",
      "execution_count": 5,
      "metadata": {
        "id": "AeFLJlPVDs63"
      },
      "outputs": [],
      "source": [
        "#url = \"https://github.com/spark-examples/spark-scala-examples/blob/master/src/main/resources/multiline-zipcode.json\"\n",
        "url5 = \"https://raw.githubusercontent.com/azar-s91/dataset/master/ford_json.json\"\n",
        "spark.sparkContext.addFile(url5)\n"
      ]
    },
    {
      "cell_type": "code",
      "source": [
        "ford_df = spark.read.option(\"multipline\",True).json(\"file://\" +SparkFiles.get(\"ford_json.json\"))\n"
      ],
      "metadata": {
        "id": "QHA8fBU8Anpr"
      },
      "execution_count": null,
      "outputs": []
    },
    {
      "cell_type": "code",
      "source": [
        "zip_url = \"https://raw.githubusercontent.com/spark-examples/spark-scala-examples/master/src/main/resources/zipcodes.json\"\n",
        "spark.sparkContext.addFile(zip_url)\n",
        "zip_df = spark.read.json(\"file://\" +SparkFiles.get(\"zipcodes.json\"))"
      ],
      "metadata": {
        "id": "4NEwXuryCCUq"
      },
      "execution_count": null,
      "outputs": []
    },
    {
      "cell_type": "code",
      "source": [
        "zip_df.show()"
      ],
      "metadata": {
        "colab": {
          "base_uri": "https://localhost:8080/"
        },
        "id": "l8V310bhC9XA",
        "outputId": "ded9c163-73ae-4dfd-f40e-63e9537343f5"
      },
      "execution_count": null,
      "outputs": [
        {
          "output_type": "stream",
          "name": "stdout",
          "text": [
            "+-------------------+-------+-------------+-------------------+-----+--------------------+--------------------+--------------+-------+-------------+------------+-----+---------------+----------+-----------+-----+-----+-----+-----------+-------+\n",
            "|               City|Country|Decommisioned|EstimatedPopulation|  Lat|            Location|        LocationText|  LocationType|   Long|        Notes|RecordNumber|State|TaxReturnsFiled|TotalWages|WorldRegion|Xaxis|Yaxis|Zaxis|ZipCodeType|Zipcode|\n",
            "+-------------------+-------+-------------+-------------------+-----+--------------------+--------------------+--------------+-------+-------------+------------+-----+---------------+----------+-----------+-----+-----+-----+-----------+-------+\n",
            "|        PARC PARQUE|     US|        false|               null|17.96|NA-US-PR-PARC PARQUE|     Parc Parque, PR|NOT ACCEPTABLE| -66.22|         null|           1|   PR|           null|      null|         NA| 0.38|-0.87|  0.3|   STANDARD|    704|\n",
            "|PASEO COSTA DEL SUR|     US|        false|               null|17.96|NA-US-PR-PASEO CO...|Paseo Costa Del S...|NOT ACCEPTABLE| -66.22|         null|           2|   PR|           null|      null|         NA| 0.38|-0.87|  0.3|   STANDARD|    704|\n",
            "|       BDA SAN LUIS|     US|        false|               null|18.14|NA-US-PR-BDA SAN ...|    Bda San Luis, PR|NOT ACCEPTABLE| -66.26|         null|          10|   PR|           null|      null|         NA| 0.38|-0.86| 0.31|   STANDARD|    709|\n",
            "|  CINGULAR WIRELESS|     US|        false|               null|32.72|NA-US-TX-CINGULAR...|Cingular Wireless...|NOT ACCEPTABLE| -97.31|         null|       61391|   TX|           null|      null|         NA| -0.1|-0.83| 0.54|     UNIQUE|  76166|\n",
            "|         FORT WORTH|     US|        false|               4053|32.75| NA-US-TX-FORT WORTH|      Fort Worth, TX|       PRIMARY| -97.33|         null|       61392|   TX|           2126| 122396986|         NA| -0.1|-0.83| 0.54|   STANDARD|  76177|\n",
            "|           FT WORTH|     US|        false|               4053|32.75|   NA-US-TX-FT WORTH|        Ft Worth, TX|    ACCEPTABLE| -97.33|         null|       61393|   TX|           2126| 122396986|         NA| -0.1|-0.83| 0.54|   STANDARD|  76177|\n",
            "|    URB EUGENE RICE|     US|        false|               null|17.96|NA-US-PR-URB EUGE...| Urb Eugene Rice, PR|NOT ACCEPTABLE| -66.22|         null|           4|   PR|           null|      null|         NA| 0.38|-0.87|  0.3|   STANDARD|    704|\n",
            "|               MESA|     US|        false|              26883|33.37|       NA-US-AZ-MESA|            Mesa, AZ|       PRIMARY|-111.64|no NWS data, |       39827|   AZ|          14962| 563792730|         NA| -0.3|-0.77| 0.55|   STANDARD|  85209|\n",
            "|               MESA|     US|        false|              25446|33.38|       NA-US-AZ-MESA|            Mesa, AZ|       PRIMARY|-111.84|         null|       39828|   AZ|          14374| 471000465|         NA|-0.31|-0.77| 0.55|   STANDARD|  85210|\n",
            "|           HILLIARD|     US|        false|               7443|30.69|   NA-US-FL-HILLIARD|        Hilliard, FL|       PRIMARY| -81.92|         null|       49345|   FL|           3922| 133112149|         NA| 0.12|-0.85| 0.51|   STANDARD|  32046|\n",
            "|             HOLDER|     US|        false|               null|28.96|     NA-US-FL-HOLDER|          Holder, FL|       PRIMARY| -82.41|         null|       49346|   FL|           null|      null|         NA| 0.11|-0.86| 0.48|     PO BOX|  34445|\n",
            "|               HOLT|     US|        false|               2190|30.72|       NA-US-FL-HOLT|            Holt, FL|       PRIMARY| -86.67|         null|       49347|   FL|           1207|  36395913|         NA| 0.04|-0.85| 0.51|   STANDARD|  32564|\n",
            "|          HOMOSASSA|     US|        false|               null|28.78|  NA-US-FL-HOMOSASSA|       Homosassa, FL|       PRIMARY| -82.61|         null|       49348|   FL|           null|      null|         NA| 0.11|-0.86| 0.48|     PO BOX|  34487|\n",
            "|       BDA SAN LUIS|     US|        false|               null|18.14|NA-US-PR-BDA SAN ...|    Bda San Luis, PR|NOT ACCEPTABLE| -66.26|         null|          10|   PR|           null|      null|         NA| 0.38|-0.86| 0.31|   STANDARD|    708|\n",
            "|      SECT LANAUSSE|     US|        false|               null|17.96|NA-US-PR-SECT LAN...|   Sect Lanausse, PR|NOT ACCEPTABLE| -66.22|         null|           3|   PR|           null|      null|         NA| 0.38|-0.87|  0.3|   STANDARD|    704|\n",
            "|      SPRING GARDEN|     US|        false|               null|33.97|NA-US-AL-SPRING G...|   Spring Garden, AL|       PRIMARY| -85.55|         null|       54354|   AL|           null|      null|         NA| 0.06|-0.82| 0.55|     PO BOX|  36275|\n",
            "|        SPRINGVILLE|     US|        false|               7845|33.77|NA-US-AL-SPRINGVILLE|     Springville, AL|       PRIMARY| -86.47|         null|       54355|   AL|           4046| 172127599|         NA| 0.05|-0.82| 0.55|   STANDARD|  35146|\n",
            "|        SPRUCE PINE|     US|        false|               1209|34.37|NA-US-AL-SPRUCE PINE|     Spruce Pine, AL|       PRIMARY| -87.69|         null|       54356|   AL|            610|  18525517|         NA| 0.03|-0.82| 0.56|   STANDARD|  35585|\n",
            "|           ASH HILL|     US|        false|               1666| 36.4|   NA-US-NC-ASH HILL|        Ash Hill, NC|NOT ACCEPTABLE| -80.56|         null|       76511|   NC|            842|  28876493|         NA| 0.13|-0.79| 0.59|   STANDARD|  27007|\n",
            "|           ASHEBORO|     US|        false|              15228|35.71|   NA-US-NC-ASHEBORO|        Asheboro, NC|       PRIMARY| -79.81|         null|       76512|   NC|           8355| 215474318|         NA| 0.14|-0.79| 0.58|   STANDARD|  27203|\n",
            "+-------------------+-------+-------------+-------------------+-----+--------------------+--------------------+--------------+-------+-------------+------------+-----+---------------+----------+-----------+-----+-----+-----+-----------+-------+\n",
            "only showing top 20 rows\n",
            "\n"
          ]
        }
      ]
    },
    {
      "cell_type": "code",
      "source": [
        "zip_df.printSchema()"
      ],
      "metadata": {
        "id": "uHMzadC5QnHA",
        "colab": {
          "base_uri": "https://localhost:8080/"
        },
        "outputId": "0077cf20-b111-426f-9d8d-5c9e3acb49bf"
      },
      "execution_count": null,
      "outputs": [
        {
          "output_type": "stream",
          "name": "stdout",
          "text": [
            "root\n",
            " |-- City: string (nullable = true)\n",
            " |-- Country: string (nullable = true)\n",
            " |-- Decommisioned: boolean (nullable = true)\n",
            " |-- EstimatedPopulation: long (nullable = true)\n",
            " |-- Lat: double (nullable = true)\n",
            " |-- Location: string (nullable = true)\n",
            " |-- LocationText: string (nullable = true)\n",
            " |-- LocationType: string (nullable = true)\n",
            " |-- Long: double (nullable = true)\n",
            " |-- Notes: string (nullable = true)\n",
            " |-- RecordNumber: long (nullable = true)\n",
            " |-- State: string (nullable = true)\n",
            " |-- TaxReturnsFiled: long (nullable = true)\n",
            " |-- TotalWages: long (nullable = true)\n",
            " |-- WorldRegion: string (nullable = true)\n",
            " |-- Xaxis: double (nullable = true)\n",
            " |-- Yaxis: double (nullable = true)\n",
            " |-- Zaxis: double (nullable = true)\n",
            " |-- ZipCodeType: string (nullable = true)\n",
            " |-- Zipcode: long (nullable = true)\n",
            "\n"
          ]
        }
      ]
    },
    {
      "cell_type": "markdown",
      "source": [
        "convert dictionary into dataframe"
      ],
      "metadata": {
        "id": "DvS7cXyj570C"
      }
    },
    {
      "cell_type": "code",
      "source": [
        "from pyspark.sql import SparkSession,Row\n",
        "spark = SparkSession.builder.appName('SparkByExamples.com').getOrCreate()\n",
        "\n",
        "jsonString= \"\"\"{\"Zipcode\":704,\"ZipCodeType\":\"STANDARD\",\"City\":\"PARC PARQUE\",\"State\":\"PR\"}\"\"\"\n",
        "df=spark.createDataFrame([(1, jsonString)],[\"id\",\"value\"])\n",
        "df.show(truncate=False)"
      ],
      "metadata": {
        "id": "1VnEaKuGQ1OH",
        "colab": {
          "base_uri": "https://localhost:8080/"
        },
        "outputId": "675b506b-ebc1-47af-fd8e-3027aeb30aa5"
      },
      "execution_count": null,
      "outputs": [
        {
          "output_type": "stream",
          "name": "stdout",
          "text": [
            "+---+--------------------------------------------------------------------------+\n",
            "|id |value                                                                     |\n",
            "+---+--------------------------------------------------------------------------+\n",
            "|1  |{\"Zipcode\":704,\"ZipCodeType\":\"STANDARD\",\"City\":\"PARC PARQUE\",\"State\":\"PR\"}|\n",
            "+---+--------------------------------------------------------------------------+\n",
            "\n"
          ]
        }
      ]
    },
    {
      "cell_type": "code",
      "source": [
        "#PySpark from_json() function is used to convert JSON string into Struct type or Map type.\n",
        "from pyspark.sql.types import MapType,StringType\n",
        "df2=df.withColumn(\"value\",from_json(col(\"value\"),MapType(StringType(),StringType())))\n"
      ],
      "metadata": {
        "id": "pVaSa4A7FjPf"
      },
      "execution_count": null,
      "outputs": []
    },
    {
      "cell_type": "code",
      "source": [
        "df2.show()"
      ],
      "metadata": {
        "id": "qqLtteZcGCZL"
      },
      "execution_count": null,
      "outputs": []
    },
    {
      "cell_type": "code",
      "source": [
        "#to_json() function is used to convert DataFrame columns MapType or Struct type to JSON string.\n",
        "from pyspark.sql.functions import to_json,col\n",
        "df2.withColumn(\"value\",to_json(col(\"value\"))) \\\n",
        "   .show(truncate=False)"
      ],
      "metadata": {
        "colab": {
          "base_uri": "https://localhost:8080/"
        },
        "id": "rWGTvhebFYo7",
        "outputId": "c3d46045-665c-43a6-9669-afc84b7f35af"
      },
      "execution_count": null,
      "outputs": [
        {
          "output_type": "stream",
          "name": "stdout",
          "text": [
            "+---+----------------------------------------------------------------------------+\n",
            "|id |value                                                                       |\n",
            "+---+----------------------------------------------------------------------------+\n",
            "|1  |{\"Zipcode\":\"704\",\"ZipCodeType\":\"STANDARD\",\"City\":\"PARC PARQUE\",\"State\":\"PR\"}|\n",
            "+---+----------------------------------------------------------------------------+\n",
            "\n"
          ]
        }
      ]
    },
    {
      "cell_type": "code",
      "source": [
        "#Function json_tuple() is used the query or extract the elements from JSON column and create the result as a new columns.\n",
        "df.select(col(\"id\"),json_tuple(col(\"value\"),\"Zipcode\",\"ZipCodeType\",\"City\")) \\\n",
        "    .toDF(\"id\",\"Zipcode\",\"ZipCodeType\",\"City\") \\\n",
        "    .show(truncate=False)"
      ],
      "metadata": {
        "colab": {
          "base_uri": "https://localhost:8080/"
        },
        "id": "otMfAxELHhIF",
        "outputId": "61f12a76-4006-478a-8720-f0a6f9fc9fea"
      },
      "execution_count": null,
      "outputs": [
        {
          "output_type": "stream",
          "name": "stdout",
          "text": [
            "+---+-------+-----------+-----------+\n",
            "|id |Zipcode|ZipCodeType|City       |\n",
            "+---+-------+-----------+-----------+\n",
            "|1  |704    |STANDARD   |PARC PARQUE|\n",
            "+---+-------+-----------+-----------+\n",
            "\n"
          ]
        }
      ]
    },
    {
      "cell_type": "code",
      "source": [
        "#column = [\"id\",\"Zipcode\",\"ZipCodeType\",\"City\",\"State\"]\n",
        "df.select(col(\"id\"),json_tuple(col(\"value\"),\"Zipcode\",\"ZipCodeType\",\"City\",\"State\")).toDF(\"id\",\"Zipcode\",\"ZipCodeType\",\"City\",\"State\").show()"
      ],
      "metadata": {
        "colab": {
          "base_uri": "https://localhost:8080/"
        },
        "id": "EEdae8EzG5Eb",
        "outputId": "646d9738-c9aa-4b58-ff31-1f8721006c88"
      },
      "execution_count": null,
      "outputs": [
        {
          "output_type": "stream",
          "name": "stdout",
          "text": [
            "+---+-------+-----------+-----------+-----+\n",
            "| id|Zipcode|ZipCodeType|       City|State|\n",
            "+---+-------+-----------+-----------+-----+\n",
            "|  1|    704|   STANDARD|PARC PARQUE|   PR|\n",
            "+---+-------+-----------+-----------+-----+\n",
            "\n"
          ]
        }
      ]
    },
    {
      "cell_type": "code",
      "source": [
        "dataDictionary = [\n",
        "        ('James',{'hair':'black','eye':'brown'}),\n",
        "        ('Michael',{'hair':'brown','eye':None}),\n",
        "        ('Robert',{'hair':'red','eye':'black'}),\n",
        "        ('Washington',{'hair':'red','eye':'grey'}),\n",
        "        ('Jefferson',{'hair':'red','eye':''})\n",
        "        ]\n",
        "df = spark.createDataFrame(dataDictionary, schema = [\"name\",\"properties\"])\n",
        "\n",
        "df.show()\n",
        "column = [\"name\",\"eye\",\"hair\"]\n",
        "df1 = df.rdd.map(lambda x: (x.name, x.properties[\"eye\"],x.properties[\"hair\"])).toDF(column)\n"
      ],
      "metadata": {
        "colab": {
          "base_uri": "https://localhost:8080/"
        },
        "id": "Fe7xOUjQ_-qM",
        "outputId": "8889c4c3-df23-4841-adcb-3afa31fe0280"
      },
      "execution_count": null,
      "outputs": [
        {
          "output_type": "stream",
          "name": "stdout",
          "text": [
            "+----------+--------------------+\n",
            "|      name|          properties|\n",
            "+----------+--------------------+\n",
            "|     James|[eye -> brown, ha...|\n",
            "|   Michael|[eye ->, hair -> ...|\n",
            "|    Robert|[eye -> black, ha...|\n",
            "|Washington|[eye -> grey, hai...|\n",
            "| Jefferson|[eye -> , hair ->...|\n",
            "+----------+--------------------+\n",
            "\n"
          ]
        }
      ]
    },
    {
      "cell_type": "code",
      "source": [
        "type(jsonString)"
      ],
      "metadata": {
        "id": "FD6Kwm3QQ09-",
        "colab": {
          "base_uri": "https://localhost:8080/"
        },
        "outputId": "ed292763-791f-4ffc-f07c-375cfa07178e"
      },
      "execution_count": null,
      "outputs": [
        {
          "output_type": "execute_result",
          "data": {
            "text/plain": [
              "str"
            ]
          },
          "metadata": {},
          "execution_count": 21
        }
      ]
    },
    {
      "cell_type": "markdown",
      "source": [
        "Multiple line json:-"
      ],
      "metadata": {
        "id": "-1SGQYZ4LCFO"
      }
    },
    {
      "cell_type": "code",
      "source": [
        "multiline_url = \"https://raw.githubusercontent.com/spark-examples/spark-scala-examples/master/src/main/resources/multiline-zipcode.json\"\n",
        "spark.sparkContext.addFile(multiline_url)\n",
        "multi_df = spark.read.option(\"multiline\",True).json(\"file://\"+SparkFiles.get(\"multiline-zipcode.json\"))\n",
        "multi_df.show()"
      ],
      "metadata": {
        "colab": {
          "base_uri": "https://localhost:8080/"
        },
        "id": "p_Ty_lQNLFKE",
        "outputId": "ceb17ac6-1560-47be-ff1b-decfc8534397"
      },
      "execution_count": null,
      "outputs": [
        {
          "output_type": "stream",
          "name": "stdout",
          "text": [
            "+-------------------+------------+-----+-----------+-------+\n",
            "|               City|RecordNumber|State|ZipCodeType|Zipcode|\n",
            "+-------------------+------------+-----+-----------+-------+\n",
            "|PASEO COSTA DEL SUR|           2|   PR|   STANDARD|    704|\n",
            "|       BDA SAN LUIS|          10|   PR|   STANDARD|    709|\n",
            "+-------------------+------------+-----+-----------+-------+\n",
            "\n"
          ]
        }
      ]
    },
    {
      "cell_type": "code",
      "source": [
        "#--using this we can run any python file\n",
        "%run abc.py "
      ],
      "metadata": {
        "id": "WpIved9q6JeD"
      },
      "execution_count": null,
      "outputs": []
    },
    {
      "cell_type": "markdown",
      "source": [
        "using NLP convert one col into into datafram"
      ],
      "metadata": {
        "id": "zPcx0YgC5omK"
      }
    },
    {
      "cell_type": "code",
      "source": [
        "df = spark.read.csv(\"/content/df1.txt\")"
      ],
      "metadata": {
        "id": "gXd9baVjNKle"
      },
      "execution_count": null,
      "outputs": []
    },
    {
      "cell_type": "code",
      "source": [
        "df.show(truncate=False)"
      ],
      "metadata": {
        "colab": {
          "base_uri": "https://localhost:8080/"
        },
        "id": "nG3v49iJZBar",
        "outputId": "9c9dee52-100a-4c04-df4e-1f1236a92b08"
      },
      "execution_count": null,
      "outputs": [
        {
          "output_type": "stream",
          "name": "stdout",
          "text": [
            "+--------------------------------------------------------------------------------------+\n",
            "|_c0                                                                                   |\n",
            "+--------------------------------------------------------------------------------------+\n",
            "|rohan|kumar|pune|9876543456|hina|kumari|us|6789087654|mari|patel|ahmedabad|9876898765\"|\n",
            "+--------------------------------------------------------------------------------------+\n",
            "\n"
          ]
        }
      ]
    },
    {
      "cell_type": "code",
      "source": [
        "df1 = df.withColumn(\"chk\",regexp_replace(\"_c0\",\"(.*?\\\\|){4}\",\"$0-\")).drop(\"_c0\")\n",
        "df1.show(truncate=False)"
      ],
      "metadata": {
        "colab": {
          "base_uri": "https://localhost:8080/"
        },
        "id": "j9UQf0AdaI_G",
        "outputId": "c840b3d6-c2e7-4c53-ef5a-8d32881f5466"
      },
      "execution_count": null,
      "outputs": [
        {
          "output_type": "stream",
          "name": "stdout",
          "text": [
            "+----------------------------------------------------------------------------------------+\n",
            "|chk                                                                                     |\n",
            "+----------------------------------------------------------------------------------------+\n",
            "|rohan|kumar|pune|9876543456|-hina|kumari|us|6789087654|-mari|patel|ahmedabad|9876898765\"|\n",
            "+----------------------------------------------------------------------------------------+\n",
            "\n"
          ]
        }
      ]
    },
    {
      "cell_type": "code",
      "source": [
        "df2 = df1.withColumn(\"chk\", explode(split('chk','\\|-')))"
      ],
      "metadata": {
        "id": "Ix7eipbQfDYA"
      },
      "execution_count": null,
      "outputs": []
    },
    {
      "cell_type": "code",
      "source": [
        "df2.show(truncate=False)"
      ],
      "metadata": {
        "colab": {
          "base_uri": "https://localhost:8080/"
        },
        "id": "OHN57G_igPnT",
        "outputId": "e1a66dac-b6c9-46ba-f84a-95aa76728312"
      },
      "execution_count": null,
      "outputs": [
        {
          "output_type": "stream",
          "name": "stdout",
          "text": [
            "+--------------------------------+\n",
            "|chk                             |\n",
            "+--------------------------------+\n",
            "|rohan|kumar|pune|9876543456     |\n",
            "|hina|kumari|us|6789087654       |\n",
            "|mari|patel|ahmedabad|9876898765\"|\n",
            "+--------------------------------+\n",
            "\n"
          ]
        }
      ]
    },
    {
      "cell_type": "code",
      "source": [
        "column = [\"name\",\"lastname\",\"city\",\"no\"]\n",
        "df3 = df2.rdd.map(lambda x: x[0].split(\"|\")).toDF(column)\n",
        "df3.show()"
      ],
      "metadata": {
        "colab": {
          "base_uri": "https://localhost:8080/"
        },
        "id": "nHK4umEZgj08",
        "outputId": "35f3aab2-c562-4c9d-ec02-62abd29de63d"
      },
      "execution_count": null,
      "outputs": [
        {
          "output_type": "stream",
          "name": "stdout",
          "text": [
            "+-----+--------+---------+-----------+\n",
            "| name|lastname|     city|         no|\n",
            "+-----+--------+---------+-----------+\n",
            "|rohan|   kumar|     pune| 9876543456|\n",
            "| hina|  kumari|       us| 6789087654|\n",
            "| mari|   patel|ahmedabad|9876898765\"|\n",
            "+-----+--------+---------+-----------+\n",
            "\n"
          ]
        }
      ]
    },
    {
      "cell_type": "markdown",
      "source": [
        "dealing with bad records"
      ],
      "metadata": {
        "id": "xeDmSNWBylBW"
      }
    },
    {
      "cell_type": "code",
      "source": [
        "#it ignore bad recore \n",
        "badrecord1 = spark.read.option(\"mode\",\"permissive\").option(\"header\",True).csv(\"/content/bad_Records.csv\")\n",
        "badrecord1.show()"
      ],
      "metadata": {
        "id": "MHEsAbeQsfGB"
      },
      "execution_count": null,
      "outputs": []
    },
    {
      "cell_type": "code",
      "source": [
        "badrecord1.printSchema()"
      ],
      "metadata": {
        "colab": {
          "base_uri": "https://localhost:8080/"
        },
        "id": "NrF6pqvawyzt",
        "outputId": "de7b4f07-3bae-471d-d8f6-3f4486dddd2d"
      },
      "execution_count": null,
      "outputs": [
        {
          "output_type": "stream",
          "name": "stdout",
          "text": [
            "root\n",
            " |-- id: string (nullable = true)\n",
            " |-- name: string (nullable = true)\n",
            " |-- department: string (nullable = true)\n",
            "\n"
          ]
        }
      ]
    },
    {
      "cell_type": "code",
      "source": [
        "# this will throw error if it meet with bad record\n",
        "badrecord = spark.read.option(\"mode\",\"FAILFAST\").option(\"header\",True).csv(\"/content/bad_Records.csv\")\n",
        "badrecord.show()"
      ],
      "metadata": {
        "id": "BUp7AzMCoxzK"
      },
      "execution_count": null,
      "outputs": []
    },
    {
      "cell_type": "code",
      "source": [
        "# THIS will skips bad records\n",
        "badrecord = spark.read.option(\"mode\",\"DROPMALFORMED\").option(\"header\",True).csv(\"/content/bad_Records.csv\")\n",
        "badrecord.show()"
      ],
      "metadata": {
        "colab": {
          "base_uri": "https://localhost:8080/"
        },
        "id": "gbgIY3hbslzm",
        "outputId": "85711796-36ed-49a4-cb0a-51fe89e82a87"
      },
      "execution_count": null,
      "outputs": [
        {
          "output_type": "stream",
          "name": "stdout",
          "text": [
            "+-------+-------+-----------+\n",
            "|     id|   name| department|\n",
            "+-------+-------+-----------+\n",
            "|      1| murali|   healcare|\n",
            "|      2| ganesh|   finance |\n",
            "|invalid|   maya| healthcare|\n",
            "|      4|   nita|       shop|\n",
            "|      5|   none|  housewife|\n",
            "|      6| alpesh|      sales|\n",
            "+-------+-------+-----------+\n",
            "\n"
          ]
        }
      ]
    },
    {
      "cell_type": "markdown",
      "source": [],
      "metadata": {
        "id": "PHzJpzAnpFW2"
      }
    },
    {
      "cell_type": "code",
      "source": [
        "from pyspark.sql.types import *\n",
        "sch = StructType([\n",
        "    StructField(\"id\",StringType(),True),\n",
        "    StructField(\"name\",StringType(),True),\n",
        "    StructField(\"department\",StringType(),True)\n",
        "    ])"
      ],
      "metadata": {
        "id": "XgfljKlyo855"
      },
      "execution_count": null,
      "outputs": []
    },
    {
      "cell_type": "code",
      "source": [
        "badrecord = spark.read.option(\"mode\",\"DROPMALFORMED\").option(\"header\",True).option(\"schema\",sch).csv(\"/content/bad_Records.csv\")\n"
      ],
      "metadata": {
        "id": "rB6NahlDwU_E"
      },
      "execution_count": null,
      "outputs": []
    },
    {
      "cell_type": "code",
      "source": [
        "badrecord.printSchema()"
      ],
      "metadata": {
        "colab": {
          "base_uri": "https://localhost:8080/"
        },
        "id": "RcOvWkLmwnNy",
        "outputId": "4ba297c0-30d5-42c1-9639-25b3701d6b31"
      },
      "execution_count": null,
      "outputs": [
        {
          "output_type": "stream",
          "name": "stdout",
          "text": [
            "root\n",
            " |-- id: string (nullable = true)\n",
            " |-- name: string (nullable = true)\n",
            " |-- department: string (nullable = true)\n",
            "\n"
          ]
        }
      ]
    },
    {
      "cell_type": "markdown",
      "source": [
        "Multiple Delimiter"
      ],
      "metadata": {
        "id": "zDD9jvASysbZ"
      }
    },
    {
      "cell_type": "code",
      "source": [
        "multiple_del = spark.read.option(\"header\",True).option(\"delimiter\",True).csv(\"/content/multiple_delimiter.txt\")"
      ],
      "metadata": {
        "id": "3BS4pB9-yrfz"
      },
      "execution_count": 30,
      "outputs": []
    },
    {
      "cell_type": "code",
      "source": [
        "multiple_del.show(truncate=False)"
      ],
      "metadata": {
        "colab": {
          "base_uri": "https://localhost:8080/"
        },
        "id": "QH1vllgT0PsJ",
        "outputId": "1a483b9e-feea-42ae-fb3a-baca7dc0dd5c"
      },
      "execution_count": 31,
      "outputs": [
        {
          "output_type": "stream",
          "name": "stdout",
          "text": [
            "+--------------------------+\n",
            "|name ~| age ~| city       |\n",
            "+--------------------------+\n",
            "|azahar,ali ~| 45 ~| pune  |\n",
            "|hina, khan ~| 55 ~| ahme  |\n",
            "|anmol, patel ~| 70 ~| udna|\n",
            "|bhagya, patel ~| 30 ~| us |\n",
            "+--------------------------+\n",
            "\n"
          ]
        }
      ]
    },
    {
      "cell_type": "code",
      "source": [
        "column = [\"name\", \"age\", \"city\"]\n",
        "df2 = multiple_del.rdd.map(lambda x: x[0].split(\"~|\")).toDF(column)\n",
        "df2.show()"
      ],
      "metadata": {
        "colab": {
          "base_uri": "https://localhost:8080/"
        },
        "id": "oQbfIdWMMnvA",
        "outputId": "4cb8bc5f-189b-428c-d815-5880ad7ae4c5"
      },
      "execution_count": 33,
      "outputs": [
        {
          "output_type": "stream",
          "name": "stdout",
          "text": [
            "+--------------+----+-----+\n",
            "|          name| age| city|\n",
            "+--------------+----+-----+\n",
            "|   azahar,ali | 45 | pune|\n",
            "|   hina, khan | 55 | ahme|\n",
            "| anmol, patel | 70 | udna|\n",
            "|bhagya, patel | 30 |   us|\n",
            "+--------------+----+-----+\n",
            "\n"
          ]
        }
      ]
    },
    {
      "cell_type": "code",
      "source": [
        "df2.withColumn(\"FirstName\", split(df2[\"name\"], \",\").getItem(0)) \\\n",
        ".withColumn(\"lastname\", split(df2[\"name\"], \",\").getItem(1)).drop(\"name\").show()"
      ],
      "metadata": {
        "colab": {
          "base_uri": "https://localhost:8080/"
        },
        "id": "cXIcfsqpPLT8",
        "outputId": "9e61f72b-5532-4456-c64e-6426af5f509a"
      },
      "execution_count": 36,
      "outputs": [
        {
          "output_type": "stream",
          "name": "stdout",
          "text": [
            "+----+-----+---------+--------+\n",
            "| age| city|FirstName|lastname|\n",
            "+----+-----+---------+--------+\n",
            "| 45 | pune|   azahar|    ali |\n",
            "| 55 | ahme|     hina|   khan |\n",
            "| 70 | udna|    anmol|  patel |\n",
            "| 30 |   us|   bhagya|  patel |\n",
            "+----+-----+---------+--------+\n",
            "\n"
          ]
        }
      ]
    },
    {
      "cell_type": "markdown",
      "source": [
        "convert date into date format and add no of days in existing dates "
      ],
      "metadata": {
        "id": "5ngkhMBq5OlG"
      }
    },
    {
      "cell_type": "code",
      "source": [
        "df1 = spark.read.option(\"header\",True).csv(\"/content/date_df.txt\")"
      ],
      "metadata": {
        "id": "P70VRrxhg868"
      },
      "execution_count": 100,
      "outputs": []
    },
    {
      "cell_type": "code",
      "source": [
        "df1.withColumn(\"date\", to_date(col(\"date11\"),\"yyyyMMdd\")).show()"
      ],
      "metadata": {
        "colab": {
          "base_uri": "https://localhost:8080/"
        },
        "id": "n0ay2mp0I4zv",
        "outputId": "c8c8c267-a4b0-4ddc-9564-55d620fa5379"
      },
      "execution_count": 101,
      "outputs": [
        {
          "output_type": "stream",
          "name": "stdout",
          "text": [
            "+----+--------+--------+----+----------+\n",
            "|  id|  date11|    name| no1|      date|\n",
            "+----+--------+--------+----+----------+\n",
            "|2004|20221115| bhawana|2004|2022-11-15|\n",
            "|2003|20221124|    hina|2003|2022-11-24|\n",
            "|2005|20181020|hirakshi|2002|2018-10-20|\n",
            "|2006|20170810|  mohini|2001|2017-08-10|\n",
            "+----+--------+--------+----+----------+\n",
            "\n"
          ]
        }
      ]
    },
    {
      "cell_type": "code",
      "source": [
        "df2 = df1.withColumn(\"date\", to_date(col(\"date11\").cast(\"String\"),\"yyyyMMdd\"))"
      ],
      "metadata": {
        "id": "x0uZ-u0yYHt7"
      },
      "execution_count": 109,
      "outputs": []
    },
    {
      "cell_type": "code",
      "source": [
        "df2.select(\"date\").show()"
      ],
      "metadata": {
        "colab": {
          "base_uri": "https://localhost:8080/"
        },
        "id": "Xiw-OfLPdvr8",
        "outputId": "ff957db9-594c-4aa7-cb5b-7101b2a6201a"
      },
      "execution_count": 110,
      "outputs": [
        {
          "output_type": "stream",
          "name": "stdout",
          "text": [
            "+----------+\n",
            "|      date|\n",
            "+----------+\n",
            "|2022-11-15|\n",
            "|2022-11-24|\n",
            "|2018-10-20|\n",
            "|2017-08-10|\n",
            "+----------+\n",
            "\n"
          ]
        }
      ]
    },
    {
      "cell_type": "code",
      "source": [
        "df2.withColumn(\"date\", date_add(\"date\",4)).show()"
      ],
      "metadata": {
        "colab": {
          "base_uri": "https://localhost:8080/"
        },
        "id": "CmD20GVlc5f7",
        "outputId": "91c940d4-fd7f-43f1-f645-142f19ad1ecf"
      },
      "execution_count": 111,
      "outputs": [
        {
          "output_type": "stream",
          "name": "stdout",
          "text": [
            "+----+--------+--------+----+----------+\n",
            "|  id|  date11|    name| no1|      date|\n",
            "+----+--------+--------+----+----------+\n",
            "|2004|20221115| bhawana|2004|2022-11-19|\n",
            "|2003|20221124|    hina|2003|2022-11-28|\n",
            "|2005|20181020|hirakshi|2002|2018-10-24|\n",
            "|2006|20170810|  mohini|2001|2017-08-14|\n",
            "+----+--------+--------+----+----------+\n",
            "\n"
          ]
        }
      ]
    },
    {
      "cell_type": "markdown",
      "source": [
        "map and flatmap in rdd"
      ],
      "metadata": {
        "id": "iHxrFK4A5JHU"
      }
    },
    {
      "cell_type": "code",
      "source": [
        "rdd1 = spark.sparkContext.textFile(\"/content/date_df.txt\")"
      ],
      "metadata": {
        "id": "3xwmSjvLgG-Q"
      },
      "execution_count": 112,
      "outputs": []
    },
    {
      "cell_type": "code",
      "source": [
        "rdd1.collect()"
      ],
      "metadata": {
        "colab": {
          "base_uri": "https://localhost:8080/"
        },
        "id": "w5BgZjJQzU8b",
        "outputId": "03ab93e3-f9da-4c87-c736-40dfdb7b08ae"
      },
      "execution_count": 113,
      "outputs": [
        {
          "output_type": "execute_result",
          "data": {
            "text/plain": [
              "['id,date11,name,no1',\n",
              " '2004,20221115,bhawana,2004',\n",
              " '2003,20221124,hina,2003',\n",
              " '2005,20181020,hirakshi,2002',\n",
              " '2006,20170810,mohini,2001']"
            ]
          },
          "metadata": {},
          "execution_count": 113
        }
      ]
    },
    {
      "cell_type": "code",
      "source": [
        "rdd1.count()"
      ],
      "metadata": {
        "colab": {
          "base_uri": "https://localhost:8080/"
        },
        "id": "ZYoEWKefz4PV",
        "outputId": "2edba6f0-a1f1-4b82-be72-746f5218651b"
      },
      "execution_count": 117,
      "outputs": [
        {
          "output_type": "execute_result",
          "data": {
            "text/plain": [
              "5"
            ]
          },
          "metadata": {},
          "execution_count": 117
        }
      ]
    },
    {
      "cell_type": "code",
      "source": [
        "rdd2 = rdd1.flatMap(lambda x: x.split(\",\"))\n",
        "rdd2.collect()"
      ],
      "metadata": {
        "colab": {
          "base_uri": "https://localhost:8080/"
        },
        "id": "8pIlB7PLzZ8f",
        "outputId": "e8ac0d1e-6c8c-4659-dbe6-708b15713aea"
      },
      "execution_count": 127,
      "outputs": [
        {
          "output_type": "execute_result",
          "data": {
            "text/plain": [
              "['id',\n",
              " 'date11',\n",
              " 'name',\n",
              " 'no1',\n",
              " '2004',\n",
              " '20221115',\n",
              " 'bhawana',\n",
              " '2004',\n",
              " '2003',\n",
              " '20221124',\n",
              " 'hina',\n",
              " '2003',\n",
              " '2005',\n",
              " '20181020',\n",
              " 'hirakshi',\n",
              " '2002',\n",
              " '2006',\n",
              " '20170810',\n",
              " 'mohini',\n",
              " '2001']"
            ]
          },
          "metadata": {},
          "execution_count": 127
        }
      ]
    },
    {
      "cell_type": "code",
      "source": [
        "rdd2.count()"
      ],
      "metadata": {
        "colab": {
          "base_uri": "https://localhost:8080/"
        },
        "id": "7K_EbJA_0POz",
        "outputId": "ad9b9d70-e79d-4ca7-f4fd-a0d28b777f73"
      },
      "execution_count": 128,
      "outputs": [
        {
          "output_type": "execute_result",
          "data": {
            "text/plain": [
              "20"
            ]
          },
          "metadata": {},
          "execution_count": 128
        }
      ]
    },
    {
      "cell_type": "code",
      "source": [
        "for i in rdd2.collect():\n",
        "  print(i)"
      ],
      "metadata": {
        "colab": {
          "base_uri": "https://localhost:8080/"
        },
        "id": "YkhiXS143PlX",
        "outputId": "5279151d-83fa-470b-93ef-4326a2e55de8"
      },
      "execution_count": 130,
      "outputs": [
        {
          "output_type": "stream",
          "name": "stdout",
          "text": [
            "id\n",
            "date11\n",
            "name\n",
            "no1\n",
            "2004\n",
            "20221115\n",
            "bhawana\n",
            "2004\n",
            "2003\n",
            "20221124\n",
            "hina\n",
            "2003\n",
            "2005\n",
            "20181020\n",
            "hirakshi\n",
            "2002\n",
            "2006\n",
            "20170810\n",
            "mohini\n",
            "2001\n"
          ]
        }
      ]
    },
    {
      "cell_type": "markdown",
      "source": [
        "How to use explode and create new col with index"
      ],
      "metadata": {
        "id": "QjhuHGvP4-es"
      }
    },
    {
      "cell_type": "code",
      "source": [
        "df = spark.read.option(\"header\",True).option(\"delimiter\",\"|\").csv(\"/content/explod.txt\")"
      ],
      "metadata": {
        "id": "vvCkMT5_49R3"
      },
      "execution_count": 132,
      "outputs": []
    },
    {
      "cell_type": "code",
      "source": [
        "df.show()"
      ],
      "metadata": {
        "colab": {
          "base_uri": "https://localhost:8080/"
        },
        "id": "mfoN5muJCG8s",
        "outputId": "7bb1cf12-cecf-4525-e7df-23602630fa73"
      },
      "execution_count": 133,
      "outputs": [
        {
          "output_type": "stream",
          "name": "stdout",
          "text": [
            "+---+-----+-----------+\n",
            "| id| name|  education|\n",
            "+---+-----+-----------+\n",
            "|  1| hari|    mba,bba|\n",
            "|  2| lila|    bca,mca|\n",
            "|  3| hina|       null|\n",
            "|  4|naman|bba,mba,phd|\n",
            "+---+-----+-----------+\n",
            "\n"
          ]
        }
      ]
    },
    {
      "cell_type": "code",
      "source": [
        "df.withColumn(\"qualification1\",explode(split(\"education\",\",\"))).show()"
      ],
      "metadata": {
        "colab": {
          "base_uri": "https://localhost:8080/"
        },
        "id": "grCiSp2zDwHO",
        "outputId": "4d6b716b-c2bf-4e92-b85b-87ec36096964"
      },
      "execution_count": 140,
      "outputs": [
        {
          "output_type": "stream",
          "name": "stdout",
          "text": [
            "+---+-----+-----------+--------------+\n",
            "| id| name|  education|qualification1|\n",
            "+---+-----+-----------+--------------+\n",
            "|  1| hari|    mba,bba|           mba|\n",
            "|  1| hari|    mba,bba|           bba|\n",
            "|  2| lila|    bca,mca|           bca|\n",
            "|  2| lila|    bca,mca|           mca|\n",
            "|  4|naman|bba,mba,phd|           bba|\n",
            "|  4|naman|bba,mba,phd|           mba|\n",
            "|  4|naman|bba,mba,phd|           phd|\n",
            "+---+-----+-----------+--------------+\n",
            "\n"
          ]
        }
      ]
    },
    {
      "cell_type": "code",
      "source": [
        "from re import split\n",
        "from pyspark.sql.functions import *\n",
        "df.withColumn(\"qualification1\",explode_outer(split(\"education\",\",\"))).show()"
      ],
      "metadata": {
        "colab": {
          "base_uri": "https://localhost:8080/"
        },
        "id": "p1DM8BSiCLj0",
        "outputId": "79804ccd-3ab3-4cd0-93ec-4f28e4bedb0e"
      },
      "execution_count": 139,
      "outputs": [
        {
          "output_type": "stream",
          "name": "stdout",
          "text": [
            "+---+-----+-----------+--------------+\n",
            "| id| name|  education|qualification1|\n",
            "+---+-----+-----------+--------------+\n",
            "|  1| hari|    mba,bba|           mba|\n",
            "|  1| hari|    mba,bba|           bba|\n",
            "|  2| lila|    bca,mca|           bca|\n",
            "|  2| lila|    bca,mca|           mca|\n",
            "|  3| hina|       null|          null|\n",
            "|  4|naman|bba,mba,phd|           bba|\n",
            "|  4|naman|bba,mba,phd|           mba|\n",
            "|  4|naman|bba,mba,phd|           phd|\n",
            "+---+-----+-----------+--------------+\n",
            "\n"
          ]
        }
      ]
    },
    {
      "cell_type": "code",
      "source": [
        "df.select(\"*\",posexplode_outer(split(\"education\",\",\"))).show()"
      ],
      "metadata": {
        "colab": {
          "base_uri": "https://localhost:8080/"
        },
        "id": "V9r0JdHGEd3X",
        "outputId": "0971cd15-ccac-4710-e0de-a2f7275f6ddb"
      },
      "execution_count": 146,
      "outputs": [
        {
          "output_type": "stream",
          "name": "stdout",
          "text": [
            "+---+-----+-----------+----+----+\n",
            "| id| name|  education| pos| col|\n",
            "+---+-----+-----------+----+----+\n",
            "|  1| hari|    mba,bba|   0| mba|\n",
            "|  1| hari|    mba,bba|   1| bba|\n",
            "|  2| lila|    bca,mca|   0| bca|\n",
            "|  2| lila|    bca,mca|   1| mca|\n",
            "|  3| hina|       null|null|null|\n",
            "|  4|naman|bba,mba,phd|   0| bba|\n",
            "|  4|naman|bba,mba,phd|   1| mba|\n",
            "|  4|naman|bba,mba,phd|   2| phd|\n",
            "+---+-----+-----------+----+----+\n",
            "\n"
          ]
        }
      ]
    },
    {
      "cell_type": "code",
      "source": [
        "df.select(\"*\",posexplode_outer(split(\"education\",\",\"))) \\\n",
        ".withColumnRenamed(\"pos\",\"position\") \\\n",
        ".withColumnRenamed(\"col\",\"qualification\") \\\n",
        ".drop(\"education\") \\\n",
        ".show()"
      ],
      "metadata": {
        "colab": {
          "base_uri": "https://localhost:8080/"
        },
        "id": "sGXM7QXBFaTQ",
        "outputId": "2325fc8f-4b21-48f8-a41d-951e9986dd2b"
      },
      "execution_count": 149,
      "outputs": [
        {
          "output_type": "stream",
          "name": "stdout",
          "text": [
            "+---+-----+--------+-------------+\n",
            "| id| name|position|qualification|\n",
            "+---+-----+--------+-------------+\n",
            "|  1| hari|       0|          mba|\n",
            "|  1| hari|       1|          bba|\n",
            "|  2| lila|       0|          bca|\n",
            "|  2| lila|       1|          mca|\n",
            "|  3| hina|    null|         null|\n",
            "|  4|naman|       0|          bba|\n",
            "|  4|naman|       1|          mba|\n",
            "|  4|naman|       2|          phd|\n",
            "+---+-----+--------+-------------+\n",
            "\n"
          ]
        }
      ]
    }
  ]
}